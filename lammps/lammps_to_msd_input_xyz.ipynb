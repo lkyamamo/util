{
 "cells": [
  {
   "cell_type": "code",
   "execution_count": null,
   "id": "245fabd4",
   "metadata": {},
   "outputs": [],
   "source": [
    "a = 28.5400009156\n",
    "b = 28.5400009156\n",
    "c = 28.5400009156\n",
    "alpha = 90\n",
    "beta = 90\n",
    "gamma = 90\n",
    "\n",
    "start_timestep=10000\n",
    "\n",
    "type_dict = {\"1\":\"Si\", \"2\":\"O\"}\n",
    "\n",
    "filename = \"all_lammps.xyz\"\n",
    "file_read = open(filename, \"r\")\n",
    "lines = file_read.readlines()\n",
    "\n",
    "box_dim_string = \"{:.6f} {:.6f} {:.6f} {:.6f} {:.6f} {:.6f}\\n\".format(a, b, c, alpha, beta, gamma)\n",
    "num_atoms=int(lines[3])\n",
    "start_line = start_timestep*(num_atoms+9) + 9\n",
    "\n"
   ]
  },
  {
   "cell_type": "code",
   "execution_count": null,
   "id": "f7290100",
   "metadata": {},
   "outputs": [],
   "source": [
    "# find ordering to use for everything else\n",
    "element1_indices = []\n",
    "element2_indices = []\n",
    "i = 0\n",
    "for line in lines[start_line:start_line+num_atoms]:\n",
    "    if line[0] == '1':\n",
    "        element1_indices.append(i)\n",
    "        \n",
    "    else:\n",
    "        element2_indices.append(i)\n",
    "    i += 1"
   ]
  },
  {
   "cell_type": "code",
   "execution_count": null,
   "id": "eddc7ba9",
   "metadata": {},
   "outputs": [],
   "source": [
    "with open(\"all.xyz\", \"w\") as file:\n",
    "    for j in range(start_line, len(lines), num_atoms+9):\n",
    "        file.write(\"{}\\n\".format(num_atoms))\n",
    "        file.write(box_dim_string)\n",
    "        for line in lines[j:j+num_atoms]:\n",
    "            file.write(type_dict[line[0]] + line[1:])\n"
   ]
  }
 ],
 "metadata": {
  "kernelspec": {
   "display_name": "Python 3",
   "language": "python",
   "name": "python3"
  },
  "language_info": {
   "codemirror_mode": {
    "name": "ipython",
    "version": 3
   },
   "file_extension": ".py",
   "mimetype": "text/x-python",
   "name": "python",
   "nbconvert_exporter": "python",
   "pygments_lexer": "ipython3",
   "version": "3.12.6"
  }
 },
 "nbformat": 4,
 "nbformat_minor": 5
}
